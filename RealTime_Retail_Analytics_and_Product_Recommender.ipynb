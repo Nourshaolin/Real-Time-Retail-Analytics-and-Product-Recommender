{
  "nbformat": 4,
  "nbformat_minor": 0,
  "metadata": {
    "colab": {
      "provenance": [],
      "authorship_tag": "ABX9TyO3UShxSyTWPCbd3Iynx+c/",
      "include_colab_link": true
    },
    "kernelspec": {
      "name": "python3",
      "display_name": "Python 3"
    },
    "language_info": {
      "name": "python"
    }
  },
  "cells": [
    {
      "cell_type": "markdown",
      "metadata": {
        "id": "view-in-github",
        "colab_type": "text"
      },
      "source": [
        "<a href=\"https://colab.research.google.com/github/Nourshaolin/Real-Time-Retail-Analytics-and-Product-Recommender/blob/main/RealTime_Retail_Analytics_and_Product_Recommender.ipynb\" target=\"_parent\"><img src=\"https://colab.research.google.com/assets/colab-badge.svg\" alt=\"Open In Colab\"/></a>"
      ]
    },
    {
      "cell_type": "markdown",
      "source": [
        "#Real-Time Retail Analytics and Product Recommender\n",
        "Team members:\n",
        "* Nour El Moujahid\n",
        "* Hiba Jebbar\n",
        "* Ilyass Louzali\n",
        "* Aya Boumelha"
      ],
      "metadata": {
        "id": "s2rX7wJagoCC"
      }
    },
    {
      "cell_type": "markdown",
      "source": [
        "##Milestone 1:\n",
        "\n",
        "Neural Network Workflow (PyTorch): Train deep learning models to predict\n",
        "purchasing behavior and customer retention based on session logs and historical purchase\n",
        "data.\n"
      ],
      "metadata": {
        "id": "UxdBXfEUmF-J"
      }
    },
    {
      "cell_type": "code",
      "execution_count": 1,
      "metadata": {
        "id": "zgzoBln3glw-"
      },
      "outputs": [],
      "source": [
        "x = 1"
      ]
    },
    {
      "cell_type": "code",
      "source": [],
      "metadata": {
        "id": "U6vyFrRMrzM0"
      },
      "execution_count": null,
      "outputs": []
    }
  ]
}
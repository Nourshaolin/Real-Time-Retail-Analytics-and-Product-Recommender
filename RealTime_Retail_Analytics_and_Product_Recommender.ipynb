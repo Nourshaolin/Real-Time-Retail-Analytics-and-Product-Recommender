{
  "nbformat": 4,
  "nbformat_minor": 0,
  "metadata": {
    "colab": {
      "provenance": [],
      "authorship_tag": "ABX9TyMoV6ihTLd8ShHWmLcBI6kW",
      "include_colab_link": true
    },
    "kernelspec": {
      "name": "python3",
      "display_name": "Python 3"
    },
    "language_info": {
      "name": "python"
    }
  },
  "cells": [
    {
      "cell_type": "markdown",
      "metadata": {
        "id": "view-in-github",
        "colab_type": "text"
      },
      "source": [
        "<a href=\"https://colab.research.google.com/github/Nourshaolin/Real-Time-Retail-Analytics-and-Product-Recommender/blob/main/RealTime_Retail_Analytics_and_Product_Recommender.ipynb\" target=\"_parent\"><img src=\"https://colab.research.google.com/assets/colab-badge.svg\" alt=\"Open In Colab\"/></a>"
      ]
    },
    {
      "cell_type": "markdown",
      "source": [
        "#Real-Time Retail Analytics and Product Recommender\n",
        "Team members:\n",
        "* Nour El Moujahid\n",
        "* Hiba Jebbar\n",
        "* Ilyass Louzali\n",
        "* Aya Boumelha"
      ],
      "metadata": {
        "id": "s2rX7wJagoCC"
      }
    },
    {
      "cell_type": "markdown",
      "source": [
        "##Milestone 1 (Nour):\n",
        "\n",
        "Neural Network Workflow (PyTorch): Train deep learning models to predict\n",
        "purchasing behavior and customer retention based on session logs and historical purchase\n",
        "data.\n"
      ],
      "metadata": {
        "id": "UxdBXfEUmF-J"
      }
    },
    {
      "cell_type": "code",
      "execution_count": null,
      "metadata": {
        "id": "zgzoBln3glw-"
      },
      "outputs": [],
      "source": []
    },
    {
      "cell_type": "markdown",
      "source": [
        "##Milstone 2 (Hiba):\n",
        "Similarity Search: Use high-dimensional similarity search to identify\n",
        "customers with comparable behavior, enabling collaborative trends and tailored\n",
        "suggestions."
      ],
      "metadata": {
        "id": "YdEOQZDgsIGD"
      }
    },
    {
      "cell_type": "code",
      "source": [],
      "metadata": {
        "id": "GzJB4EhtsZV6"
      },
      "execution_count": null,
      "outputs": []
    },
    {
      "cell_type": "markdown",
      "source": [
        "## Milestone 4 (Aya)\n",
        "Large-Scale Hypothesis Testing: Conduct hypothesis testing across patient\n",
        "subgroups to uncover statistically significant health factors. Apply corrections for multiple\n",
        "testing (e.g., Benjamini-Hochberg)."
      ],
      "metadata": {
        "id": "5TjQHbCFCJzs"
      }
    },
    {
      "cell_type": "code",
      "source": [],
      "metadata": {
        "id": "vS6zR1AVCNI9"
      },
      "execution_count": null,
      "outputs": []
    },
    {
      "cell_type": "markdown",
      "source": [
        "##Milestone 5 (Louzali)\n",
        "Recommendation Systems: Develop a recommendation engine to propose\n",
        "lifestyle changes and follow-up actions based on predicted risks and matched patient\n",
        "cohorts."
      ],
      "metadata": {
        "id": "DRq_ctwlCQT-"
      }
    },
    {
      "cell_type": "code",
      "source": [],
      "metadata": {
        "id": "O7ntGAZZCUAC"
      },
      "execution_count": null,
      "outputs": []
    }
  ]
}